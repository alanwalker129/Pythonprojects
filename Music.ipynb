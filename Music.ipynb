{
  "nbformat": 4,
  "nbformat_minor": 0,
  "metadata": {
    "colab": {
      "provenance": [],
      "authorship_tag": "ABX9TyPyjkUkaMPZVlx0lCyCv1a/",
      "include_colab_link": true
    },
    "kernelspec": {
      "name": "python3",
      "display_name": "Python 3"
    },
    "language_info": {
      "name": "python"
    }
  },
  "cells": [
    {
      "cell_type": "markdown",
      "metadata": {
        "id": "view-in-github",
        "colab_type": "text"
      },
      "source": [
        "<a href=\"https://colab.research.google.com/github/alanwalker129/Pythonprojects/blob/main/Music.ipynb\" target=\"_parent\"><img src=\"https://colab.research.google.com/assets/colab-badge.svg\" alt=\"Open In Colab\"/></a>"
      ]
    },
    {
      "cell_type": "code",
      "execution_count": 1,
      "metadata": {
        "colab": {
          "base_uri": "https://localhost:8080/"
        },
        "id": "aALw1t9vQtgs",
        "outputId": "f83e6487-e00e-428b-c751-5a0aebdcbf95"
      },
      "outputs": [
        {
          "output_type": "stream",
          "name": "stdout",
          "text": [
            "Requirement already satisfied: textblob in /usr/local/lib/python3.10/dist-packages (0.17.1)\n",
            "Requirement already satisfied: requests in /usr/local/lib/python3.10/dist-packages (2.32.3)\n",
            "Requirement already satisfied: nltk>=3.1 in /usr/local/lib/python3.10/dist-packages (from textblob) (3.8.1)\n",
            "Requirement already satisfied: charset-normalizer<4,>=2 in /usr/local/lib/python3.10/dist-packages (from requests) (3.3.2)\n",
            "Requirement already satisfied: idna<4,>=2.5 in /usr/local/lib/python3.10/dist-packages (from requests) (3.7)\n",
            "Requirement already satisfied: urllib3<3,>=1.21.1 in /usr/local/lib/python3.10/dist-packages (from requests) (2.0.7)\n",
            "Requirement already satisfied: certifi>=2017.4.17 in /usr/local/lib/python3.10/dist-packages (from requests) (2024.7.4)\n",
            "Requirement already satisfied: click in /usr/local/lib/python3.10/dist-packages (from nltk>=3.1->textblob) (8.1.7)\n",
            "Requirement already satisfied: joblib in /usr/local/lib/python3.10/dist-packages (from nltk>=3.1->textblob) (1.4.2)\n",
            "Requirement already satisfied: regex>=2021.8.3 in /usr/local/lib/python3.10/dist-packages (from nltk>=3.1->textblob) (2024.5.15)\n",
            "Requirement already satisfied: tqdm in /usr/local/lib/python3.10/dist-packages (from nltk>=3.1->textblob) (4.66.5)\n"
          ]
        }
      ],
      "source": [
        "!pip install textblob requests"
      ]
    },
    {
      "cell_type": "code",
      "source": [
        "!pip install spotipy"
      ],
      "metadata": {
        "colab": {
          "base_uri": "https://localhost:8080/"
        },
        "id": "cM2VX47qRnBt",
        "outputId": "476505de-823c-44ab-9842-ac3cf558ff35"
      },
      "execution_count": 2,
      "outputs": [
        {
          "output_type": "stream",
          "name": "stdout",
          "text": [
            "Collecting spotipy\n",
            "  Downloading spotipy-2.24.0-py3-none-any.whl.metadata (4.9 kB)\n",
            "Collecting redis>=3.5.3 (from spotipy)\n",
            "  Downloading redis-5.0.8-py3-none-any.whl.metadata (9.2 kB)\n",
            "Requirement already satisfied: requests>=2.25.0 in /usr/local/lib/python3.10/dist-packages (from spotipy) (2.32.3)\n",
            "Requirement already satisfied: urllib3>=1.26.0 in /usr/local/lib/python3.10/dist-packages (from spotipy) (2.0.7)\n",
            "Requirement already satisfied: async-timeout>=4.0.3 in /usr/local/lib/python3.10/dist-packages (from redis>=3.5.3->spotipy) (4.0.3)\n",
            "Requirement already satisfied: charset-normalizer<4,>=2 in /usr/local/lib/python3.10/dist-packages (from requests>=2.25.0->spotipy) (3.3.2)\n",
            "Requirement already satisfied: idna<4,>=2.5 in /usr/local/lib/python3.10/dist-packages (from requests>=2.25.0->spotipy) (3.7)\n",
            "Requirement already satisfied: certifi>=2017.4.17 in /usr/local/lib/python3.10/dist-packages (from requests>=2.25.0->spotipy) (2024.7.4)\n",
            "Downloading spotipy-2.24.0-py3-none-any.whl (30 kB)\n",
            "Downloading redis-5.0.8-py3-none-any.whl (255 kB)\n",
            "\u001b[2K   \u001b[90m━━━━━━━━━━━━━━━━━━━━━━━━━━━━━━━━━━━━━━━━\u001b[0m \u001b[32m255.6/255.6 kB\u001b[0m \u001b[31m2.4 MB/s\u001b[0m eta \u001b[36m0:00:00\u001b[0m\n",
            "\u001b[?25hInstalling collected packages: redis, spotipy\n",
            "Successfully installed redis-5.0.8 spotipy-2.24.0\n"
          ]
        }
      ]
    },
    {
      "cell_type": "code",
      "source": [
        "import spotipy\n",
        "from spotipy.oauth2 import SpotifyClientCredentials\n",
        "from textblob import TextBlob\n",
        "\n",
        "# Spotify API credentials\n",
        "CLIENT_ID = '7d8850b778a2402fab20a258f425ea73'  # Replace with your actual Client ID\n",
        "CLIENT_SECRET = '872db85d7d1f4927af9d988e7584a28b'  # Replace with your actual Client Secret\n",
        "\n",
        "# Initialize Spotify client\n",
        "sp = spotipy.Spotify(auth_manager=SpotifyClientCredentials(client_id=CLIENT_ID, client_secret=CLIENT_SECRET))\n",
        "\n",
        "def get_sentiment(text):\n",
        "    \"\"\"Analyze the sentiment of the text and return the mood.\"\"\"\n",
        "    analysis = TextBlob(text)\n",
        "    if analysis.sentiment.polarity > 0:\n",
        "        return \"positive\"\n",
        "    elif analysis.sentiment.polarity == 0:\n",
        "        return \"neutral\"\n",
        "    else:\n",
        "        return \"negative\"\n",
        "\n",
        "def search_tracks(mood):\n",
        "    \"\"\"Search for tracks on Spotify based on the user's mood.\"\"\"\n",
        "    if mood == \"positive\":\n",
        "        query = 'happy'\n",
        "    elif mood == \"neutral\":\n",
        "        query = 'relaxing'\n",
        "    elif mood == \"negative\":\n",
        "        query = 'sad'\n",
        "    else:\n",
        "        return \"Mood not recognized.\"\n",
        "\n",
        "    results = sp.search(q=query, type='track', limit=5)\n",
        "    tracks = []\n",
        "    for track in results['tracks']['items']:\n",
        "        tracks.append({\n",
        "            'title': track['name'],\n",
        "            'artist': track['artists'][0]['name'],\n",
        "            'url': track['external_urls']['spotify']\n",
        "        })\n",
        "    return tracks\n",
        "\n",
        "def recommend_music(mood):\n",
        "    \"\"\"Recommend music based on the detected mood.\"\"\"\n",
        "    tracks = search_tracks(mood)\n",
        "    if isinstance(tracks, str):\n",
        "        return tracks\n",
        "    else:\n",
        "        return tracks\n",
        "\n",
        "def main():\n",
        "    \"\"\"Main function to interact with the user and recommend music.\"\"\"\n",
        "    user_input = input(\"How are you feeling today? \")\n",
        "    mood = get_sentiment(user_input)\n",
        "    print(f\"Detected mood: {mood}\")\n",
        "\n",
        "    recommendations = recommend_music(mood)\n",
        "    if isinstance(recommendations, str):\n",
        "        print(recommendations)\n",
        "    else:\n",
        "        print(\"We recommend these songs for you:\")\n",
        "        for track in recommendations:\n",
        "            print(f\"- {track['title']} by {track['artist']} ({track['url']})\")\n",
        "\n",
        "if __name__ == \"__main__\":\n",
        "    main()"
      ],
      "metadata": {
        "colab": {
          "base_uri": "https://localhost:8080/"
        },
        "id": "gIZOjvKCTRXS",
        "outputId": "c4b00dda-a7da-4cf8-f9dc-1864dd896817"
      },
      "execution_count": 3,
      "outputs": [
        {
          "output_type": "stream",
          "name": "stdout",
          "text": [
            "How are you feeling today? Happy\n",
            "Detected mood: positive\n",
            "We recommend these songs for you:\n",
            "- Happy - From \"Despicable Me 2\" by Pharrell Williams (https://open.spotify.com/track/60nZcImufyMA1MKQY3dcCH)\n",
            "- The Happy Song by Imogen Heap (https://open.spotify.com/track/6snoOAATGyud5oaIT9gwws)\n",
            "- HAPPY by NF (https://open.spotify.com/track/3ZEno9fORwMA1HPecdLi0R)\n",
            "- Happy Birthday To You - Classic Version by Happy Birthday Songs (https://open.spotify.com/track/2pW5kNCx133MWWirxegvng)\n",
            "- Happy Together by The Turtles (https://open.spotify.com/track/1JO1xLtVc8mWhIoE3YaCL0)\n"
          ]
        }
      ]
    }
  ]
}